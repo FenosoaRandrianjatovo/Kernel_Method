{
 "cells": [
  {
   "cell_type": "code",
   "execution_count": 1,
   "metadata": {},
   "outputs": [],
   "source": [
    "import numpy as np"
   ]
  },
  {
   "cell_type": "markdown",
   "metadata": {},
   "source": [
    "## Loading data\n",
    "***"
   ]
  },
  {
   "cell_type": "code",
   "execution_count": 2,
   "metadata": {},
   "outputs": [],
   "source": [
    "X = np.loadtxt('data/Xtr.csv', skiprows=1, usecols=(1,), dtype=str, delimiter=',')\n",
    "y = np.loadtxt('data/Ytr.csv', skiprows=1, usecols=(1,), dtype=int, delimiter=',')\n",
    "X_test = np.loadtxt('data/Xte.csv', skiprows=1, usecols=(1,), dtype=str, delimiter=',')\n",
    "\n",
    "X_full = np.hstack([X, X_test])\n",
    "y = 2*y - 1."
   ]
  },
  {
   "cell_type": "markdown",
   "metadata": {},
   "source": [
    "## Utility functions\n",
    "---"
   ]
  },
  {
   "cell_type": "code",
   "execution_count": 8,
   "metadata": {},
   "outputs": [
    {
     "data": {
      "text/plain": [
       "[0, 0, 1, 2, 2, 3]"
      ]
     },
     "execution_count": 8,
     "metadata": {},
     "output_type": "execute_result"
    }
   ],
   "source": [
    "def base2int(c):\n",
    "    return {'A': 0, 'C': 1, 'G': 2, 'T': 3}.get(c, 0)\n",
    "\n",
    "[base2int(c) for c in 'AACGGT']"
   ]
  },
  {
   "cell_type": "markdown",
   "metadata": {},
   "source": [
    "## Model Selection\n",
    "***"
   ]
  },
  {
   "cell_type": "code",
   "execution_count": 4,
   "metadata": {},
   "outputs": [],
   "source": [
    "# Split into X, y into training and validation sets\n",
    "# Choose model(s)\n",
    "# Tune parameters"
   ]
  },
  {
   "cell_type": "markdown",
   "metadata": {},
   "source": [
    "Saving predictions\n",
    "---\n",
    "***"
   ]
  },
  {
   "cell_type": "code",
   "execution_count": 9,
   "metadata": {},
   "outputs": [],
   "source": [
    "# Predict labels\n",
    "y_test = (np.random.rand(len(X_test)) < 0.5) # dummy predictions"
   ]
  },
  {
   "cell_type": "code",
   "execution_count": 6,
   "metadata": {},
   "outputs": [
    {
     "data": {
      "text/plain": [
       "array([[ 1,  0],\n",
       "       [ 2,  0],\n",
       "       [ 3,  0],\n",
       "       [ 4,  0],\n",
       "       [ 5,  1],\n",
       "       [ 6,  0],\n",
       "       [ 7,  1],\n",
       "       [ 8,  0],\n",
       "       [ 9,  0],\n",
       "       [10,  1]])"
      ]
     },
     "execution_count": 6,
     "metadata": {},
     "output_type": "execute_result"
    }
   ],
   "source": [
    "# Add the column of Ids\n",
    "y_save = np.vstack([1 + np.arange(len(y_test)), y_test]).T\n",
    "y_save[:10]"
   ]
  },
  {
   "cell_type": "code",
   "execution_count": 7,
   "metadata": {},
   "outputs": [],
   "source": [
    "# Save as a csv file\n",
    "np.savetxt('sample_prediction.csv', y_save,\n",
    "           delimiter=',', header='Id,Covid', fmt='%i', comments='')"
   ]
  },
  {
   "cell_type": "markdown",
   "metadata": {},
   "source": [
    "`sample_prediction.csv` looks like this:\n",
    "```\n",
    "Id, Covid\n",
    "1, 0\n",
    "2, 0\n",
    ".\n",
    ".\n",
    ".\n",
    "1000, 1\n",
    "```"
   ]
  }
 ],
 "metadata": {
  "kernelspec": {
   "display_name": "Python 3 (ipykernel)",
   "language": "python",
   "name": "python3"
  },
  "language_info": {
   "codemirror_mode": {
    "name": "ipython",
    "version": 3
   },
   "file_extension": ".py",
   "mimetype": "text/x-python",
   "name": "python",
   "nbconvert_exporter": "python",
   "pygments_lexer": "ipython3",
   "version": "3.7.6"
  }
 },
 "nbformat": 4,
 "nbformat_minor": 2
}
